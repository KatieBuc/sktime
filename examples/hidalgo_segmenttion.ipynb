{
 "cells": [
  {
   "cell_type": "code",
   "execution_count": 1,
   "metadata": {},
   "outputs": [],
   "source": [
    "import math\n",
    "\n",
    "import numpy as np\n",
    "\n",
    "from sktime.annotation.hidalgo import Hidalgo\n",
    "\n",
    "# generate dataset\n",
    "N = 10\n",
    "N_half = int(N / 2)\n",
    "np.random.seed(10002)\n",
    "X = np.zeros((N, 6))\n",
    "\n",
    "# half the points from one generating regime\n",
    "for j in range(1):\n",
    "    X[:N_half, j] = np.random.normal(0, 3, N_half)\n",
    "\n",
    "# the other half from another\n",
    "for j in range(3):\n",
    "    X[N_half:, j] = np.random.normal(2, 1, N_half)"
   ]
  },
  {
   "cell_type": "code",
   "execution_count": 2,
   "metadata": {},
   "outputs": [],
   "source": [
    "# get model\n",
    "K = 2\n",
    "model = Hidalgo(K=K)"
   ]
  },
  {
   "cell_type": "code",
   "execution_count": 3,
   "metadata": {},
   "outputs": [
    {
     "data": {
      "text/plain": [
       "array([[  3.04431   ,   1.56489   ,   0.332044  ,   0.667956  ,\n",
       "          1.        ,   1.        ,   1.        ,   1.        ,\n",
       "          1.        ,   0.        ,   0.        ,   0.        ,\n",
       "          0.        ,   0.        , -18.46042527,  -4.99661629],\n",
       "       [  1.81112   ,   0.892297  ,   0.434086  ,   0.565914  ,\n",
       "          1.        ,   1.        ,   1.        ,   1.        ,\n",
       "          1.        ,   0.        ,   0.        ,   0.        ,\n",
       "          0.        ,   0.        , -18.15640872,  -4.69259974]])"
      ]
     },
     "execution_count": 3,
     "metadata": {},
     "output_type": "execute_result"
    }
   ],
   "source": [
    "model.fit(X)"
   ]
  },
  {
   "cell_type": "code",
   "execution_count": null,
   "metadata": {},
   "outputs": [],
   "source": [
    "model.d_"
   ]
  },
  {
   "cell_type": "code",
   "execution_count": null,
   "metadata": {},
   "outputs": [],
   "source": [
    "model.p_"
   ]
  },
  {
   "cell_type": "code",
   "execution_count": null,
   "metadata": {},
   "outputs": [],
   "source": [
    "model.Z"
   ]
  },
  {
   "cell_type": "code",
   "execution_count": null,
   "metadata": {},
   "outputs": [],
   "source": []
  },
  {
   "cell_type": "code",
   "execution_count": 2,
   "metadata": {},
   "outputs": [],
   "source": [
    "MU = [\n",
    "    1.46472,\n",
    "    5.40974,\n",
    "    2.46472,\n",
    "    4.78175,\n",
    "    1.17461,\n",
    "    1.95891,\n",
    "    1.05864,\n",
    "    1.06313,\n",
    "    1.85041,\n",
    "    1.28065,\n",
    "]\n",
    "Iin = [\n",
    "    2,\n",
    "    4,\n",
    "    7,\n",
    "    3,\n",
    "    9,\n",
    "    4,\n",
    "    0,\n",
    "    4,\n",
    "    7,\n",
    "    1,\n",
    "    4,\n",
    "    9,\n",
    "    0,\n",
    "    9,\n",
    "    3,\n",
    "    8,\n",
    "    6,\n",
    "    9,\n",
    "    8,\n",
    "    5,\n",
    "    9,\n",
    "    5,\n",
    "    8,\n",
    "    9,\n",
    "    5,\n",
    "    6,\n",
    "    7,\n",
    "    5,\n",
    "    7,\n",
    "    4,\n",
    "]\n",
    "Iout = [\n",
    "    2,\n",
    "    4,\n",
    "    3,\n",
    "    0,\n",
    "    1,\n",
    "    4,\n",
    "    0,\n",
    "    1,\n",
    "    2,\n",
    "    3,\n",
    "    9,\n",
    "    6,\n",
    "    7,\n",
    "    8,\n",
    "    9,\n",
    "    5,\n",
    "    8,\n",
    "    0,\n",
    "    2,\n",
    "    8,\n",
    "    9,\n",
    "    5,\n",
    "    6,\n",
    "    7,\n",
    "    1,\n",
    "    3,\n",
    "    4,\n",
    "    5,\n",
    "    6,\n",
    "    7,\n",
    "]\n",
    "Iout_count = [2, 1, 1, 2, 5, 4, 2, 4, 3, 6]\n",
    "Iout_track = [0, 2, 3, 4, 6, 11, 15, 17, 21, 24]\n",
    "\n",
    "V = [\n",
    "    3.67521,\n",
    "    2.67584,\n",
    "]\n",
    "NN = [\n",
    "    6,\n",
    "    4,\n",
    "]\n",
    "d = [1.0, 1.0]\n",
    "p = [0.5, 0.5]\n",
    "a1 = [\n",
    "    7.0,\n",
    "    5.0,\n",
    "]\n",
    "b1 = [\n",
    "    4.67521,\n",
    "    3.67584,\n",
    "]\n",
    "c1 = [\n",
    "    7,\n",
    "    5,\n",
    "]\n",
    "Z = [\n",
    "    1,\n",
    "    0,\n",
    "    0,\n",
    "    1,\n",
    "    0,\n",
    "    1,\n",
    "    1,\n",
    "    0,\n",
    "    0,\n",
    "    0,\n",
    "]\n",
    "N_in = 12\n",
    "f1 = [\n",
    "    13.0,\n",
    "    19.0,\n",
    "]\n",
    "pp = 0.5\n",
    "r = 1"
   ]
  },
  {
   "cell_type": "code",
   "execution_count": 3,
   "metadata": {},
   "outputs": [
    {
     "data": {
      "text/plain": [
       "array([  1.54721   ,   1.1892    ,   0.694958  ,   0.305042  ,\n",
       "         0.        ,   1.        ,   0.        ,   1.        ,\n",
       "         1.        ,   0.        ,   0.        ,   0.        ,\n",
       "         0.        ,   1.        , -18.48747971,  -8.44254209,\n",
       "         2.02996   ,   1.12395   ,   0.728617  ,   0.271383  ,\n",
       "         0.        ,   1.        ,   0.        ,   1.        ,\n",
       "         1.        ,   0.        ,   0.        ,   1.        ,\n",
       "         0.        ,   1.        , -19.85061372, -13.31827654,\n",
       "         2.507     ,   0.936869  ,   0.660135  ,   0.339865  ,\n",
       "         1.        ,   1.        ,   1.        ,   1.        ,\n",
       "         1.        ,   0.        ,   0.        ,   0.        ,\n",
       "         0.        ,   0.        , -18.10036948,  -4.6365605 ,\n",
       "         0.413395  ,   0.639255  ,   0.478546  ,   0.521454  ,\n",
       "         1.        ,   1.        ,   1.        ,   1.        ,\n",
       "         1.        ,   0.        ,   0.        ,   0.        ,\n",
       "         0.        ,   0.        , -23.6322678 , -10.16845882,\n",
       "         3.26539   ,   1.70931   ,   0.575729  ,   0.424271  ,\n",
       "         1.        ,   1.        ,   1.        ,   1.        ,\n",
       "         1.        ,   0.        ,   0.        ,   0.        ,\n",
       "         0.        ,   0.        , -18.22989778,  -4.7660888 ,\n",
       "         3.66679   ,   1.11602   ,   0.638136  ,   0.361864  ,\n",
       "         1.        ,   1.        ,   1.        ,   1.        ,\n",
       "         1.        ,   0.        ,   0.        ,   0.        ,\n",
       "         0.        ,   0.        , -17.9393344 ,  -4.47552542,\n",
       "         3.04431   ,   1.56489   ,   0.332044  ,   0.667956  ,\n",
       "         1.        ,   1.        ,   1.        ,   1.        ,\n",
       "         1.        ,   0.        ,   0.        ,   0.        ,\n",
       "         0.        ,   0.        , -18.46042612,  -4.99661714,\n",
       "         1.4907    ,   1.48481   ,   0.604783  ,   0.395217  ,\n",
       "         1.        ,   1.        ,   1.        ,   1.        ,\n",
       "         1.        ,   0.        ,   0.        ,   0.        ,\n",
       "         0.        ,   0.        , -18.9742614 ,  -5.51045243,\n",
       "         1.81112   ,   0.892297  ,   0.434086  ,   0.565914  ,\n",
       "         1.        ,   1.        ,   1.        ,   1.        ,\n",
       "         1.        ,   0.        ,   0.        ,   0.        ,\n",
       "         0.        ,   0.        , -18.1564094 ,  -4.69260042,\n",
       "         3.16069   ,   0.243075  ,   0.677287  ,   0.322713  ,\n",
       "         1.        ,   1.        ,   1.        ,   1.        ,\n",
       "         1.        ,   0.        ,   0.        ,   0.        ,\n",
       "         0.        ,   0.        , -21.6399528 ,  -8.17614382])"
      ]
     },
     "execution_count": 3,
     "metadata": {},
     "output_type": "execute_result"
    }
   ],
   "source": [
    "sampling = model.gibbs_sampling(\n",
    "    N,\n",
    "    MU,\n",
    "    Iin,\n",
    "    Iout,\n",
    "    Iout_count,\n",
    "    Iout_track,\n",
    "    V,\n",
    "    NN,\n",
    "    d,\n",
    "    p,\n",
    "    a1,\n",
    "    b1,\n",
    "    c1,\n",
    "    Z,\n",
    "    f1,\n",
    "    N_in,\n",
    "    pp,\n",
    "    r,\n",
    ")"
   ]
  },
  {
   "cell_type": "code",
   "execution_count": 5,
   "metadata": {},
   "outputs": [
    {
     "ename": "AttributeError",
     "evalue": "'hidalgo' object has no attribute 'MU'",
     "output_type": "error",
     "traceback": [
      "\u001b[1;31m---------------------------------------------------------------------------\u001b[0m",
      "\u001b[1;31mAttributeError\u001b[0m                            Traceback (most recent call last)",
      "\u001b[1;32mc:\\Users\\n10907700\\repos\\sktime\\examples\\hidalgo_segmenttion.ipynb Cell 4\u001b[0m in \u001b[0;36m<cell line: 1>\u001b[1;34m()\u001b[0m\n\u001b[1;32m----> <a href='vscode-notebook-cell:/c%3A/Users/n10907700/repos/sktime/examples/hidalgo_segmenttion.ipynb#ch0000016?line=0'>1</a>\u001b[0m model\u001b[39m.\u001b[39;49mMU\n",
      "\u001b[1;31mAttributeError\u001b[0m: 'hidalgo' object has no attribute 'MU'"
     ]
    }
   ],
   "source": [
    "model.MU"
   ]
  },
  {
   "cell_type": "code",
   "execution_count": 3,
   "metadata": {},
   "outputs": [
    {
     "name": "stderr",
     "output_type": "stream",
     "text": [
      "c:\\users\\n10907700\\repos\\sktime\\sktime\\annotation\\hidalgo.py:361: RuntimeWarning: divide by zero encountered in double_scalars\n",
      "  ((1 - r1) / (1 - rmax)) ** (c1[K - 1] - 1)\n",
      "c:\\users\\n10907700\\repos\\sktime\\sktime\\annotation\\hidalgo.py:361: RuntimeWarning: invalid value encountered in double_scalars\n",
      "  ((1 - r1) / (1 - rmax)) ** (c1[K - 1] - 1)\n",
      "c:\\users\\n10907700\\repos\\sktime\\sktime\\annotation\\hidalgo.py:450: RuntimeWarning: invalid value encountered in log\n",
      "  g = g + np.log(\n"
     ]
    },
    {
     "ename": "IndexError",
     "evalue": "index 69 is out of bounds for axis 0 with size 2",
     "output_type": "error",
     "traceback": [
      "\u001b[1;31m---------------------------------------------------------------------------\u001b[0m",
      "\u001b[1;31mIndexError\u001b[0m                                Traceback (most recent call last)",
      "\u001b[1;32mc:\\Users\\n10907700\\repos\\sktime\\examples\\hidalgo_segmenttion.ipynb Cell 4\u001b[0m in \u001b[0;36m<cell line: 1>\u001b[1;34m()\u001b[0m\n\u001b[1;32m----> <a href='vscode-notebook-cell:/c%3A/Users/n10907700/repos/sktime/examples/hidalgo_segmenttion.ipynb#ch0000015?line=0'>1</a>\u001b[0m sampling \u001b[39m=\u001b[39m model\u001b[39m.\u001b[39;49m_fit(X)\n",
      "File \u001b[1;32mc:\\users\\n10907700\\repos\\sktime\\sktime\\annotation\\hidalgo.py:541\u001b[0m, in \u001b[0;36mhidalgo._fit\u001b[1;34m(self, X)\u001b[0m\n\u001b[0;32m    539\u001b[0m \u001b[39m# for r in range(self.Nreplicas):\u001b[39;00m\n\u001b[0;32m    540\u001b[0m r \u001b[39m=\u001b[39m \u001b[39m1\u001b[39m\n\u001b[1;32m--> 541\u001b[0m sampling \u001b[39m=\u001b[39m \u001b[39mself\u001b[39;49m\u001b[39m.\u001b[39;49mgibbs_sampling(\n\u001b[0;32m    542\u001b[0m     N,\n\u001b[0;32m    543\u001b[0m     MU,\n\u001b[0;32m    544\u001b[0m     Iin,\n\u001b[0;32m    545\u001b[0m     Iout,\n\u001b[0;32m    546\u001b[0m     Iout_count,\n\u001b[0;32m    547\u001b[0m     Iout_track,\n\u001b[0;32m    548\u001b[0m     V,\n\u001b[0;32m    549\u001b[0m     NN,\n\u001b[0;32m    550\u001b[0m     d,\n\u001b[0;32m    551\u001b[0m     p,\n\u001b[0;32m    552\u001b[0m     a1,\n\u001b[0;32m    553\u001b[0m     b1,\n\u001b[0;32m    554\u001b[0m     c1,\n\u001b[0;32m    555\u001b[0m     Z,\n\u001b[0;32m    556\u001b[0m     f1,\n\u001b[0;32m    557\u001b[0m     N_in,\n\u001b[0;32m    558\u001b[0m     pp,\n\u001b[0;32m    559\u001b[0m     r,\n\u001b[0;32m    560\u001b[0m )\n\u001b[0;32m    561\u001b[0m sampling \u001b[39m=\u001b[39m np\u001b[39m.\u001b[39mreshape(sampling, (\u001b[39mself\u001b[39m\u001b[39m.\u001b[39mNiter, Npar))\n\u001b[0;32m    563\u001b[0m idx \u001b[39m=\u001b[39m [it \u001b[39mfor\u001b[39;00m it \u001b[39min\u001b[39;00m \u001b[39mrange\u001b[39m(\u001b[39mself\u001b[39m\u001b[39m.\u001b[39mNiter) \u001b[39mif\u001b[39;00m it\u001b[39m%\u001b[39m\u001b[39mself\u001b[39m\u001b[39m.\u001b[39msampling_rate\u001b[39m==\u001b[39m\u001b[39m0\u001b[39m \u001b[39mand\u001b[39;00m it\u001b[39m>\u001b[39m\u001b[39m=\u001b[39m \u001b[39mself\u001b[39m\u001b[39m.\u001b[39mNiter\u001b[39m*\u001b[39m\u001b[39mself\u001b[39m\u001b[39m.\u001b[39mburn_in]\n",
      "File \u001b[1;32mc:\\users\\n10907700\\repos\\sktime\\sktime\\annotation\\hidalgo.py:476\u001b[0m, in \u001b[0;36mhidalgo.gibbs_sampling\u001b[1;34m(self, N_, MU, Iin, Iout, Iout_count, Iout_track, V, NN, d, p, a1, b1, c1, Z, f1, N_in, pp, r)\u001b[0m\n\u001b[0;32m    473\u001b[0m r1 \u001b[39m=\u001b[39m \u001b[39mint\u001b[39m(random_list\u001b[39m.\u001b[39mpop(\u001b[39m0\u001b[39m))\n\u001b[0;32m    474\u001b[0m r2 \u001b[39m=\u001b[39m random_list\u001b[39m.\u001b[39mpop(\u001b[39m0\u001b[39m)\n\u001b[1;32m--> 476\u001b[0m \u001b[39mif\u001b[39;00m prob[r1] \u001b[39m>\u001b[39m r2:\n\u001b[0;32m    477\u001b[0m     stop \u001b[39m=\u001b[39m \u001b[39mTrue\u001b[39;00m\n\u001b[0;32m    478\u001b[0m     sampling \u001b[39m=\u001b[39m np\u001b[39m.\u001b[39mappend(sampling, r1)\n",
      "\u001b[1;31mIndexError\u001b[0m: index 69 is out of bounds for axis 0 with size 2"
     ]
    }
   ],
   "source": []
  },
  {
   "cell_type": "code",
   "execution_count": null,
   "metadata": {},
   "outputs": [],
   "source": [
    "sampling"
   ]
  },
  {
   "cell_type": "code",
   "execution_count": null,
   "metadata": {},
   "outputs": [],
   "source": []
  },
  {
   "cell_type": "code",
   "execution_count": null,
   "metadata": {},
   "outputs": [],
   "source": []
  },
  {
   "cell_type": "code",
   "execution_count": null,
   "metadata": {},
   "outputs": [],
   "source": []
  },
  {
   "cell_type": "code",
   "execution_count": 8,
   "metadata": {},
   "outputs": [
    {
     "data": {
      "text/plain": [
       "0.5714025946899135"
      ]
     },
     "execution_count": 8,
     "metadata": {},
     "output_type": "execute_result"
    }
   ],
   "source": [
    "import random\n",
    "\n",
    "random.seed(10)\n",
    "random.random()"
   ]
  },
  {
   "cell_type": "code",
   "execution_count": 15,
   "metadata": {},
   "outputs": [],
   "source": [
    "rng = np.random.default_rng(10)"
   ]
  },
  {
   "cell_type": "code",
   "execution_count": 18,
   "metadata": {},
   "outputs": [
    {
     "data": {
      "text/plain": [
       "numpy.random._generator.Generator"
      ]
     },
     "execution_count": 18,
     "metadata": {},
     "output_type": "execute_result"
    }
   ],
   "source": [
    "type(rng)"
   ]
  },
  {
   "cell_type": "code",
   "execution_count": 20,
   "metadata": {},
   "outputs": [],
   "source": [
    "a = rng.random(10)"
   ]
  },
  {
   "cell_type": "code",
   "execution_count": 23,
   "metadata": {},
   "outputs": [
    {
     "data": {
      "text/plain": [
       "[0, 1, 1, 1, 1, 0, 1, 0, 1, 0]"
      ]
     },
     "execution_count": 23,
     "metadata": {},
     "output_type": "execute_result"
    }
   ],
   "source": [
    "[round(aa) for aa in a]"
   ]
  },
  {
   "cell_type": "code",
   "execution_count": null,
   "metadata": {},
   "outputs": [],
   "source": []
  }
 ],
 "metadata": {
  "kernelspec": {
   "display_name": "Python 3.9.13 ('sktime-dev')",
   "language": "python",
   "name": "python3"
  },
  "language_info": {
   "codemirror_mode": {
    "name": "ipython",
    "version": 3
   },
   "file_extension": ".py",
   "mimetype": "text/x-python",
   "name": "python",
   "nbconvert_exporter": "python",
   "pygments_lexer": "ipython3",
   "version": "3.9.12"
  },
  "orig_nbformat": 4,
  "vscode": {
   "interpreter": {
    "hash": "3672c9971f48dc8b5371767a83a5c009b8758f695819d57d51811323dc5c559e"
   }
  }
 },
 "nbformat": 4,
 "nbformat_minor": 2
}
